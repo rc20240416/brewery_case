{
 "cells": [
  {
   "cell_type": "code",
   "execution_count": 0,
   "metadata": {
    "application/vnd.databricks.v1+cell": {
     "cellMetadata": {},
     "inputWidgets": {},
     "nuid": "0824c0b2-7d7c-4737-bc74-b889d0b527d2",
     "showTitle": false,
     "title": ""
    }
   },
   "outputs": [],
   "source": [
    "# Pegar a variavel processdate do Data Factory\n",
    "\n",
    "processdate = dbutils.widgets.get(\"processdate\")\n",
    "print(processdate)"
   ]
  },
  {
   "cell_type": "code",
   "execution_count": 0,
   "metadata": {
    "application/vnd.databricks.v1+cell": {
     "cellMetadata": {},
     "inputWidgets": {},
     "nuid": "6f26cd17-aa56-40ba-8cf7-51030f1a1597",
     "showTitle": false,
     "title": ""
    }
   },
   "outputs": [],
   "source": []
  },
  {
   "cell_type": "code",
   "execution_count": 0,
   "metadata": {
    "application/vnd.databricks.v1+cell": {
     "cellMetadata": {
      "byteLimit": 2048000,
      "rowLimit": 10000
     },
     "inputWidgets": {},
     "nuid": "a4ea56e2-d8f0-4255-bead-b738556e7e38",
     "showTitle": false,
     "title": ""
    }
   },
   "outputs": [],
   "source": [
    "mount_point = \"/mnt/datalake\"\n",
    "\n",
    "# Check if the directory is already mounted\n",
    "if len([mount for mount in dbutils.fs.mounts() if mount.mountPoint == mount_point]) == 0:\n",
    "  dbutils.fs.mount(\n",
    "      source=\"wasbs://datalake@ricaadls.blob.core.windows.net\",\n",
    "      mount_point=mount_point,\n",
    "      extra_configs={\n",
    "          \"fs.azure.account.key.ricaadls.blob.core.windows.net\": dbutils.secrets.get(scope=\"RicardoSecretScope\", key=\"ricaAdlsSecret\")\n",
    "      }\n",
    "  )"
   ]
  },
  {
   "cell_type": "markdown",
   "metadata": {
    "application/vnd.databricks.v1+cell": {
     "cellMetadata": {},
     "inputWidgets": {},
     "nuid": "be793dee-627c-47b2-aee2-414c602f9262",
     "showTitle": false,
     "title": ""
    }
   },
   "source": [
    "##Bibliotecas necessarias"
   ]
  },
  {
   "cell_type": "code",
   "execution_count": 0,
   "metadata": {
    "application/vnd.databricks.v1+cell": {
     "cellMetadata": {
      "byteLimit": 2048000,
      "rowLimit": 10000
     },
     "inputWidgets": {},
     "nuid": "3dacc56f-c866-4467-a93b-2239729ce838",
     "showTitle": false,
     "title": ""
    }
   },
   "outputs": [],
   "source": [
    "from pyspark.sql.functions import lit"
   ]
  },
  {
   "cell_type": "markdown",
   "metadata": {
    "application/vnd.databricks.v1+cell": {
     "cellMetadata": {},
     "inputWidgets": {},
     "nuid": "8269f177-a0f1-4a26-9183-441a49a5b5d3",
     "showTitle": false,
     "title": ""
    }
   },
   "source": [
    "##Leitura e transformação"
   ]
  },
  {
   "cell_type": "code",
   "execution_count": 0,
   "metadata": {
    "application/vnd.databricks.v1+cell": {
     "cellMetadata": {
      "byteLimit": 2048000,
      "rowLimit": 10000
     },
     "inputWidgets": {},
     "nuid": "464b61f2-26e1-4eb1-866f-9a20a23c91ec",
     "showTitle": false,
     "title": ""
    }
   },
   "outputs": [],
   "source": [
    "df = (spark\n",
    "        .read\n",
    "        .json('dbfs:/mnt/datalake/bronze/{}/*'.format(processdate))\n",
    ")\n",
    "# display(df)"
   ]
  },
  {
   "cell_type": "code",
   "execution_count": 0,
   "metadata": {
    "application/vnd.databricks.v1+cell": {
     "cellMetadata": {
      "byteLimit": 2048000,
      "rowLimit": 10000
     },
     "inputWidgets": {},
     "nuid": "7f43840f-18ce-4d06-a38a-a4bcd6a0bb54",
     "showTitle": false,
     "title": ""
    }
   },
   "outputs": [],
   "source": [
    "data = df.withColumn('processdate', lit(str(processdate))).distinct()\n",
    "# display(data)"
   ]
  },
  {
   "cell_type": "markdown",
   "metadata": {
    "application/vnd.databricks.v1+cell": {
     "cellMetadata": {},
     "inputWidgets": {},
     "nuid": "7ed0e349-acf7-441f-a858-1c2e35f763d1",
     "showTitle": false,
     "title": ""
    }
   },
   "source": [
    "###Silver"
   ]
  },
  {
   "cell_type": "code",
   "execution_count": 0,
   "metadata": {
    "application/vnd.databricks.v1+cell": {
     "cellMetadata": {
      "byteLimit": 2048000,
      "rowLimit": 10000
     },
     "inputWidgets": {},
     "nuid": "bec693ee-1bff-4826-bfa9-fe22812466fa",
     "showTitle": false,
     "title": ""
    }
   },
   "outputs": [
    {
     "output_type": "execute_result",
     "data": {
      "text/plain": [
       "DataFrame[]"
      ]
     },
     "execution_count": 10,
     "metadata": {},
     "output_type": "execute_result"
    }
   ],
   "source": [
    "if \"brewery_api\" in [t.tableName.lower() for t in spark.sql(\"SHOW TABLES\").select('tableName').collect()]:\n",
    "    query = \"DELETE FROM brewery_api WHERE processdate = '{0}'\".format(processdate)\n",
    "    dbutils.fs.rm('dbfs:/mnt/datalake/silver/{}'.format(processdate), True)\n",
    "    _ = spark.sql(query)\n",
    "\n",
    "(data\n",
    ".write\n",
    ".format('delta')\n",
    ".partitionBy(\"processdate\")\n",
    ".mode('append')\n",
    ".save('dbfs:/mnt/datalake/silver'))\n",
    "\n",
    "spark.sql(\"CREATE TABLE IF NOT EXISTS brewery_api USING delta LOCATION 'dbfs:/mnt/datalake/silver'\")"
   ]
  },
  {
   "cell_type": "markdown",
   "metadata": {
    "application/vnd.databricks.v1+cell": {
     "cellMetadata": {},
     "inputWidgets": {},
     "nuid": "7174a9e7-1566-4070-aa56-3ad98efa43cd",
     "showTitle": false,
     "title": ""
    }
   },
   "source": [
    "###Gold"
   ]
  },
  {
   "cell_type": "code",
   "execution_count": 0,
   "metadata": {
    "application/vnd.databricks.v1+cell": {
     "cellMetadata": {},
     "inputWidgets": {},
     "nuid": "57f5cd5a-e897-412d-9137-2a6fcf788bc7",
     "showTitle": false,
     "title": ""
    }
   },
   "outputs": [],
   "source": [
    "data = spark.sql(\"\"\"\n",
    "    SELECT brewery_type, state, count(*) AS brewery_count\n",
    "    FROM brewery_api\n",
    "    GROUP BY brewery_type, state\n",
    "\"\"\")\n",
    "\n",
    "(data\n",
    ".write\n",
    ".format('delta')\n",
    ".mode('overwrite')\n",
    ".save('dbfs:/mnt/datalake/gold'))"
   ]
  },
  {
   "cell_type": "code",
   "execution_count": 0,
   "metadata": {
    "application/vnd.databricks.v1+cell": {
     "cellMetadata": {
      "byteLimit": 2048000,
      "implicitDf": true,
      "rowLimit": 10000
     },
     "inputWidgets": {},
     "nuid": "dceebc87-1440-43f8-95b7-1faf047e6fb8",
     "showTitle": false,
     "title": ""
    }
   },
   "outputs": [
    {
     "output_type": "display_data",
     "data": {
      "text/html": [
       "<style scoped>\n",
       "  .table-result-container {\n",
       "    max-height: 300px;\n",
       "    overflow: auto;\n",
       "  }\n",
       "  table, th, td {\n",
       "    border: 1px solid black;\n",
       "    border-collapse: collapse;\n",
       "  }\n",
       "  th, td {\n",
       "    padding: 5px;\n",
       "  }\n",
       "  th {\n",
       "    text-align: left;\n",
       "  }\n",
       "</style><div class='table-result-container'><table class='table-result'><thead style='background-color: white'><tr></tr></thead><tbody></tbody></table></div>"
      ]
     },
     "metadata": {
      "application/vnd.databricks.v1+output": {
       "addedWidgets": {},
       "aggData": [],
       "aggError": "",
       "aggOverflow": false,
       "aggSchema": [],
       "aggSeriesLimitReached": false,
       "aggType": "",
       "arguments": {},
       "columnCustomDisplayInfos": {},
       "data": [],
       "datasetInfos": [],
       "dbfsResultPath": null,
       "isJsonSchema": true,
       "metadata": {
        "dataframeName": null
       },
       "overflow": false,
       "plotOptions": {
        "customPlotOptions": {},
        "displayType": "table",
        "pivotAggregation": null,
        "pivotColumns": null,
        "xColumns": null,
        "yColumns": null
       },
       "removedWidgets": [],
       "schema": [],
       "type": "table"
      }
     },
     "output_type": "display_data"
    }
   ],
   "source": [
    "%sql\n",
    "CREATE OR REPLACE VIEW brewery_api_agg AS\n",
    "SELECT brewery_type, state, count(*) AS brewery_count\n",
    "FROM brewery_api\n",
    "GROUP BY brewery_type, state;"
   ]
  },
  {
   "cell_type": "code",
   "execution_count": 0,
   "metadata": {
    "application/vnd.databricks.v1+cell": {
     "cellMetadata": {
      "byteLimit": 2048000,
      "implicitDf": true,
      "rowLimit": 10000
     },
     "inputWidgets": {},
     "nuid": "71c14795-0940-44c8-842f-c4c5c1fd74f0",
     "showTitle": false,
     "title": ""
    }
   },
   "outputs": [
    {
     "output_type": "display_data",
     "data": {
      "text/html": [
       "<style scoped>\n",
       "  .table-result-container {\n",
       "    max-height: 300px;\n",
       "    overflow: auto;\n",
       "  }\n",
       "  table, th, td {\n",
       "    border: 1px solid black;\n",
       "    border-collapse: collapse;\n",
       "  }\n",
       "  th, td {\n",
       "    padding: 5px;\n",
       "  }\n",
       "  th {\n",
       "    text-align: left;\n",
       "  }\n",
       "</style><div class='table-result-container'><table class='table-result'><thead style='background-color: white'><tr><th>brewery_type</th><th>state</th><th>brewery_count</th></tr></thead><tbody><tr><td>micro</td><td>Wisconsin</td><td>2</td></tr><tr><td>closed</td><td>California</td><td>1</td></tr><tr><td>large</td><td>Oregon</td><td>4</td></tr><tr><td>closed</td><td>Washington</td><td>1</td></tr><tr><td>micro</td><td>Virginia</td><td>1</td></tr><tr><td>micro</td><td>Massachusetts</td><td>1</td></tr><tr><td>micro</td><td>Iowa</td><td>1</td></tr><tr><td>micro</td><td>Oklahoma</td><td>1</td></tr><tr><td>micro</td><td>Michigan</td><td>1</td></tr><tr><td>micro</td><td>North Carolina</td><td>1</td></tr><tr><td>brewpub</td><td>New York</td><td>2</td></tr><tr><td>micro</td><td>Minnesota</td><td>3</td></tr><tr><td>micro</td><td>Colorado</td><td>1</td></tr><tr><td>micro</td><td>Laois</td><td>1</td></tr><tr><td>micro</td><td>Pennsylvania</td><td>1</td></tr><tr><td>micro</td><td>California</td><td>2</td></tr><tr><td>micro</td><td>Nevada</td><td>1</td></tr><tr><td>micro</td><td>Vermont</td><td>1</td></tr><tr><td>brewpub</td><td>South Carolina</td><td>1</td></tr><tr><td>large</td><td>Colorado</td><td>1</td></tr><tr><td>large</td><td>California</td><td>1</td></tr><tr><td>micro</td><td>Arizona</td><td>3</td></tr><tr><td>micro</td><td>Indiana</td><td>3</td></tr><tr><td>micro</td><td>Texas</td><td>2</td></tr><tr><td>large</td><td>Idaho</td><td>1</td></tr><tr><td>micro</td><td>Mississippi</td><td>1</td></tr><tr><td>brewpub</td><td>Washington</td><td>1</td></tr><tr><td>micro</td><td>Delaware</td><td>1</td></tr><tr><td>brewpub</td><td>Oregon</td><td>2</td></tr><tr><td>proprietor</td><td>Colorado</td><td>1</td></tr><tr><td>brewpub</td><td>Colorado</td><td>1</td></tr><tr><td>contract</td><td>Maryland</td><td>1</td></tr><tr><td>micro</td><td>Illinois</td><td>1</td></tr><tr><td>brewpub</td><td>Ohio</td><td>1</td></tr><tr><td>brewpub</td><td>North Carolina</td><td>1</td></tr><tr><td>micro</td><td>Ohio</td><td>1</td></tr></tbody></table></div>"
      ]
     },
     "metadata": {
      "application/vnd.databricks.v1+output": {
       "addedWidgets": {},
       "aggData": [],
       "aggError": "",
       "aggOverflow": false,
       "aggSchema": [],
       "aggSeriesLimitReached": false,
       "aggType": "",
       "arguments": {},
       "columnCustomDisplayInfos": {},
       "data": [
        [
         "micro",
         "Wisconsin",
         2
        ],
        [
         "closed",
         "California",
         1
        ],
        [
         "large",
         "Oregon",
         4
        ],
        [
         "closed",
         "Washington",
         1
        ],
        [
         "micro",
         "Virginia",
         1
        ],
        [
         "micro",
         "Massachusetts",
         1
        ],
        [
         "micro",
         "Iowa",
         1
        ],
        [
         "micro",
         "Oklahoma",
         1
        ],
        [
         "micro",
         "Michigan",
         1
        ],
        [
         "micro",
         "North Carolina",
         1
        ],
        [
         "brewpub",
         "New York",
         2
        ],
        [
         "micro",
         "Minnesota",
         3
        ],
        [
         "micro",
         "Colorado",
         1
        ],
        [
         "micro",
         "Laois",
         1
        ],
        [
         "micro",
         "Pennsylvania",
         1
        ],
        [
         "micro",
         "California",
         2
        ],
        [
         "micro",
         "Nevada",
         1
        ],
        [
         "micro",
         "Vermont",
         1
        ],
        [
         "brewpub",
         "South Carolina",
         1
        ],
        [
         "large",
         "Colorado",
         1
        ],
        [
         "large",
         "California",
         1
        ],
        [
         "micro",
         "Arizona",
         3
        ],
        [
         "micro",
         "Indiana",
         3
        ],
        [
         "micro",
         "Texas",
         2
        ],
        [
         "large",
         "Idaho",
         1
        ],
        [
         "micro",
         "Mississippi",
         1
        ],
        [
         "brewpub",
         "Washington",
         1
        ],
        [
         "micro",
         "Delaware",
         1
        ],
        [
         "brewpub",
         "Oregon",
         2
        ],
        [
         "proprietor",
         "Colorado",
         1
        ],
        [
         "brewpub",
         "Colorado",
         1
        ],
        [
         "contract",
         "Maryland",
         1
        ],
        [
         "micro",
         "Illinois",
         1
        ],
        [
         "brewpub",
         "Ohio",
         1
        ],
        [
         "brewpub",
         "North Carolina",
         1
        ],
        [
         "micro",
         "Ohio",
         1
        ]
       ],
       "datasetInfos": [],
       "dbfsResultPath": null,
       "isJsonSchema": true,
       "metadata": {
        "dataframeName": "_sqldf",
        "executionCount": 51
       },
       "overflow": false,
       "plotOptions": {
        "customPlotOptions": {},
        "displayType": "table",
        "pivotAggregation": null,
        "pivotColumns": null,
        "xColumns": null,
        "yColumns": null
       },
       "removedWidgets": [],
       "schema": [
        {
         "metadata": "{}",
         "name": "brewery_type",
         "type": "\"string\""
        },
        {
         "metadata": "{}",
         "name": "state",
         "type": "\"string\""
        },
        {
         "metadata": "{}",
         "name": "brewery_count",
         "type": "\"long\""
        }
       ],
       "type": "table"
      }
     },
     "output_type": "display_data"
    }
   ],
   "source": [
    "%sql\n",
    "\n",
    "SELECT * FROM brewery_api_agg"
   ]
  }
 ],
 "metadata": {
  "application/vnd.databricks.v1+notebook": {
   "dashboards": [],
   "language": "python",
   "notebookMetadata": {
    "mostRecentlyExecutedCommandWithImplicitDF": {
     "commandId": 2226138913775412,
     "dataframes": [
      "_sqldf"
     ]
    },
    "pythonIndentUnit": 4
   },
   "notebookName": "NTB_Brewery_Medalion",
   "widgets": {}
  }
 },
 "nbformat": 4,
 "nbformat_minor": 0
}
